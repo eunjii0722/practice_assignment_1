{
  "metadata": {
    "kernelspec": {
      "name": "python",
      "display_name": "Python (Pyodide)",
      "language": "python"
    },
    "language_info": {
      "codemirror_mode": {
        "name": "python",
        "version": 3
      },
      "file_extension": ".py",
      "mimetype": "text/x-python",
      "name": "python",
      "nbconvert_exporter": "python",
      "pygments_lexer": "ipython3",
      "version": "3.8"
    }
  },
  "nbformat_minor": 4,
  "nbformat": 4,
  "cells": [
    {
      "cell_type": "markdown",
      "source": "### 소수 개수 구하기 실습문제",
      "metadata": {}
    },
    {
      "cell_type": "markdown",
      "source": "###소수 개수 구하기 실습문제",
      "metadata": {}
    },
    {
      "cell_type": "code",
      "source": "from itertools import combinations\nimport random as rd\nnums = []",
      "metadata": {
        "trusted": true
      },
      "outputs": [],
      "execution_count": null
    },
    {
      "cell_type": "markdown",
      "source": "순열의 사용과 nums리스트에 랜덤의 수를 넣기 위해 모듈을 import합니다.",
      "metadata": {}
    },
    {
      "cell_type": "code",
      "source": "def solution(x):\n  a = int(input(\"nums에 들어갈 숫자 개수(3개 이상 50개 이하) : \"))\n  if a<3 or a>50:\n    print(\"3개 이상 50개 이하입니다.\")\n  else:\n    while len(x) != a:\n      b = rd.randint(1,1000)\n      if b not in x:\n        x.append(b)\n      else:\n        pass\n  print(f'nums : {nums}')",
      "metadata": {
        "trusted": true
      },
      "outputs": [],
      "execution_count": null
    },
    {
      "cell_type": "markdown",
      "source": "### 소수의 개수를 구하는 solution 함수를 정의합니다.\n\n-사용자가 nums리스트에 넣을 숫자의 개수를 정할 수 있도록 하기 위해 a변수를 설정합니다.\n-중복된 수가 nums리스트에 포함되지 않도록 nums리스트에 존재하지 않은 수만 리스트에 추가되도록 합니다.\n-nums리스트에 어떤 랜덤의 수가 있는지 확인할 수 있도록 리스트를 출력합니다.",
      "metadata": {}
    },
    {
      "cell_type": "code",
      "source": "  combo = list(combinations(x,3))\n  l = 0\n  for i in combo:\n    r = 0\n    c = 0\n    for j in range(len(i)):\n      r += i[j]\n    for k in range(1,r+1):\n      if r % k == 0:\n        c+=1\n      else:\n        pass\n    if c == 2:\n      l += 1\n    else:\n      pass\n  print(f'nums에 있는 숫자들 중 서로 다른 3개를 골라 더했을 때 소수가 되는 경우의 개수: {l}')\nsolution(nums)",
      "metadata": {
        "trusted": true
      },
      "outputs": [],
      "execution_count": null
    },
    {
      "cell_type": "markdown",
      "source": "### 소수를 판별하는 코드를 작성합니다.\n\n-nums리스트에서 가능한 모든 중복되지 않는 임의의 3가지 숫자를 튜플로 가지는 combo리스트를 만듭니다.\n-소수의 개수를 나타내는 변수 l을 설정합니다.\n-3가지 수의 합을 나타내는 변수 r을 설정합니다.\n-3가지 수의 합의 양의 약수 개수를 나타내는 변수 c를 설정합니다.\n-combo리스트에서 튜플을 하나씩 꺼내서 3가지 수의 합을 구합니다.\n-3가지 수의 합의 약수를 구합니다.\n-약수가 1과 자기자신만 존재하는 수가 소수이기 때문에 약수의 개수가 2개인 수만 골라내어 약수의 개수에 포함시킵니다.",
      "metadata": {}
    },
    {
      "cell_type": "markdown",
      "source": "### 실행을 위한 코드\n->주피터에서는 a = int(input(\"nums에 들어갈 숫자 개수(3개 이상 50개 이하) : \")) 부분이 오류가 나기 때문에 vs코드에서 실행하시길 권합니다.",
      "metadata": {}
    },
    {
      "cell_type": "code",
      "source": "from itertools import combinations\nimport random as rd\nnums = []\n    \ndef solution(x):\n  a = int(input(\"nums에 들어갈 숫자 개수(3개 이상 50개 이하) : \"))\n  if a<3 or a>50:\n    print(\"3개 이상 50개 이하입니다.\")\n  else:\n    while len(x) != a:\n      b = rd.randint(1,1000)\n      if b not in x:\n        x.append(b)\n      else:\n        pass\n  print(f'nums : {nums}')\n    \n  combo = list(combinations(x,3))\n  l = 0\n  for i in combo:\n    r = 0\n    c = 0\n    for j in range(len(i)):\n      r += i[j]\n    for k in range(1,r+1):\n      if r % k == 0:\n        c+=1\n      else:\n        pass\n    if c == 2:\n      l += 1\n    else:\n      pass\n  print(f'nums에 있는 숫자들 중 서로 다른 3개를 골라 더했을 때 소수가 되는 경우의 개수: {l}')\nsolution(nums)",
      "metadata": {
        "trusted": true
      },
      "outputs": [],
      "execution_count": null
    }
  ]
}